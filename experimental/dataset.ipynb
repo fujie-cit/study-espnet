{
 "cells": [
  {
   "cell_type": "code",
   "execution_count": 26,
   "metadata": {},
   "outputs": [],
   "source": [
    "from espnet2.train.dataset import ESPnetDataset\n",
    "from espnet2.tts.feats_extract.dio import Dio\n",
    "import torch\n",
    "import numpy as np\n",
    "import warnings"
   ]
  },
  {
   "cell_type": "code",
   "execution_count": 27,
   "metadata": {},
   "outputs": [],
   "source": [
    "from espnet2.tts.feats_extract.dio import Dio\n",
    "\n",
    "class DioPreprocessor(object):\n",
    "    def __init__(self, \n",
    "            fs=16000,\n",
    "            n_fft=1024,\n",
    "            hop_length=128,\n",
    "            use_log_f0=True,\n",
    "            num_sub=4,):\n",
    "        self.dio = Dio(fs=fs, n_fft=n_fft, hop_length=hop_length, use_log_f0=use_log_f0,\n",
    "                       use_token_averaged_f0=False, use_continuous_f0=False)\n",
    "        self.num_sub = num_sub\n",
    "\n",
    "    def __call__(self, text, data):\n",
    "        wav = data[\"wav\"]\n",
    "        wav_tensor = torch.tensor(wav, dtype=torch.float32)\n",
    "        wav_lengths = torch.tensor([len(wav)], dtype=torch.long)\n",
    "        f0, f0_lengths = self.dio(wav_tensor.unsqueeze(0), wav_lengths)\n",
    "\n",
    "        f0 = f0.squeeze(0, 2).cpu().numpy()\n",
    "        print(f0.shape)\n",
    "        \n",
    "        num_sub = self.num_sub\n",
    "\n",
    "        # 長さがnum_subの倍数になるようにパディング\n",
    "        if f0.shape[0] % num_sub != 0:\n",
    "            pad = num_sub - f0.shape[0] % num_sub\n",
    "            f0 = np.concatenate([f0, np.zeros(pad)], axis=0)\n",
    "\n",
    "        # サブサンプルの準備\n",
    "        f0s = f0.reshape(-1, num_sub)\n",
    "\n",
    "        # 代表値（f0p）の計算\n",
    "        if num_sub % 2 == 0:\n",
    "            # num_subが偶数の場合は，中間の２つの値の平均を取る\n",
    "            # ただし，0は平均の計算に含めず，両者0の場合は0を返す\n",
    "            f0p = f0s[:, num_sub//2-1:num_sub//2+1].copy()\n",
    "            f0p[f0p == 0] = np.nan\n",
    "            with warnings.catch_warnings():\n",
    "                warnings.simplefilter(\"ignore\", category=RuntimeWarning)\n",
    "                f0p = np.nanmean(f0p, axis=1)\n",
    "            f0p[np.isnan(f0p)] = 0\n",
    "        else:\n",
    "            # num_subが奇数の場合は，単純に中間の値を取る\n",
    "            f0p = f0s[:, num_sub//2].copy()\n",
    "\n",
    "        # 1次近似の計算\n",
    "        f0dy = f0s.copy()\n",
    "        f0dx = np.arange(num_sub) - (num_sub - 1) / 2\n",
    "        f0ds = []\n",
    "        for i in range(f0dy.shape[0]):\n",
    "            nonzero_count = np.sum(f0dy[i] > 0)\n",
    "            if nonzero_count > num_sub / 2:\n",
    "                dx = f0dx[f0dy[i] > 0]\n",
    "                \n",
    "                dy = f0dy[i][f0dy[i] > 0]\n",
    "                f0ds.append(np.polyfit(dx, dy, 1))\n",
    "            else:\n",
    "                f0ds.append([0, 0])\n",
    "        f0ds = np.stack(f0ds)\n",
    "\n",
    "        result = np.concatenate([f0p.reshape(-1, 1), f0ds], axis=1)\n",
    "\n",
    "        data[\"f0data\"] = result\n",
    "\n",
    "        return data       \n"
   ]
  },
  {
   "cell_type": "code",
   "execution_count": 28,
   "metadata": {},
   "outputs": [],
   "source": [
    "dio_processor = DioPreprocessor()\n",
    "\n",
    "dataset = ESPnetDataset(\n",
    "    [(\"./dump/raw/train_nodup/wav.scp\", \"wav\", \"sound\"),],\n",
    "    preprocess=dio_processor,\n",
    ")"
   ]
  },
  {
   "cell_type": "code",
   "execution_count": 36,
   "metadata": {},
   "outputs": [
    {
     "name": "stdout",
     "output_type": "stream",
     "text": [
      "(178,)\n"
     ]
    },
    {
     "data": {
      "text/plain": [
       "('A01M0007_0245593_0247015',\n",
       " {'wav': array([-0.00073242, -0.00064087, -0.00064087, ...,  0.00076294,\n",
       "          0.00057983,  0.00064087], dtype=float32),\n",
       "  'f0data': array([[ 0.0000000e+00,  0.0000000e+00,  0.0000000e+00],\n",
       "         [ 5.2459526e+00, -2.7206898e-02,  5.2524261e+00],\n",
       "         [ 5.2265215e+00, -1.8979072e-03,  5.2249317e+00],\n",
       "         [ 5.2067995e+00,  2.4906634e-03,  5.2055068e+00],\n",
       "         [ 5.1920223e+00, -7.7142718e-04,  5.1943512e+00],\n",
       "         [ 5.1944857e+00,  1.2005329e-03,  5.1954870e+00],\n",
       "         [ 5.1556168e+00, -3.4804963e-02,  5.1511145e+00],\n",
       "         [ 5.1340590e+00,  3.7063598e-03,  5.1334987e+00],\n",
       "         [ 5.1399641e+00,  1.7378330e-03,  5.1391382e+00],\n",
       "         [ 5.1121502e+00, -6.9402219e-03,  5.1127477e+00],\n",
       "         [ 5.1001673e+00, -4.3285848e-03,  5.0989990e+00],\n",
       "         [ 5.0692706e+00, -9.6879955e-03,  5.0687618e+00],\n",
       "         [ 4.9456758e+00, -3.4686230e-02,  4.9596663e+00],\n",
       "         [ 0.0000000e+00,  0.0000000e+00,  0.0000000e+00],\n",
       "         [ 0.0000000e+00,  0.0000000e+00,  0.0000000e+00],\n",
       "         [ 5.0937233e+00, -5.1718045e-02,  5.1078672e+00],\n",
       "         [ 5.0025282e+00, -1.4719391e-02,  5.0030308e+00],\n",
       "         [ 4.9484348e+00, -2.1089125e-02,  4.9452286e+00],\n",
       "         [ 4.8443789e+00, -2.1898795e-02,  4.8508387e+00],\n",
       "         [ 4.8261800e+00, -8.4257124e-05,  4.8214145e+00],\n",
       "         [ 4.6716766e+00, -7.0716336e-02,  4.6558571e+00],\n",
       "         [ 0.0000000e+00,  0.0000000e+00,  0.0000000e+00],\n",
       "         [ 0.0000000e+00,  0.0000000e+00,  0.0000000e+00],\n",
       "         [ 0.0000000e+00,  0.0000000e+00,  0.0000000e+00],\n",
       "         [ 5.0493388e+00,  0.0000000e+00,  0.0000000e+00],\n",
       "         [ 5.0510292e+00, -5.0806045e-03,  5.0441566e+00],\n",
       "         [ 4.9583588e+00, -3.5464622e-02,  4.9587288e+00],\n",
       "         [ 4.8909330e+00, -1.1333036e-02,  4.8842230e+00],\n",
       "         [ 4.7889223e+00, -3.4346581e-02,  4.7851505e+00],\n",
       "         [ 0.0000000e+00,  0.0000000e+00,  0.0000000e+00],\n",
       "         [ 5.0560594e+00, -3.2155514e-03,  5.0502839e+00],\n",
       "         [ 4.9670296e+00, -2.6545335e-02,  4.9692307e+00],\n",
       "         [ 4.8742743e+00, -1.9231558e-02,  4.8729186e+00],\n",
       "         [ 4.8250790e+00, -1.2579394e-02,  4.8220959e+00],\n",
       "         [ 4.8436446e+00,  0.0000000e+00,  0.0000000e+00],\n",
       "         [ 0.0000000e+00,  0.0000000e+00,  0.0000000e+00],\n",
       "         [ 0.0000000e+00,  0.0000000e+00,  0.0000000e+00],\n",
       "         [ 0.0000000e+00,  0.0000000e+00,  0.0000000e+00],\n",
       "         [ 0.0000000e+00,  0.0000000e+00,  0.0000000e+00],\n",
       "         [ 5.4401398e+00, -2.4931431e-02,  5.4425559e+00],\n",
       "         [ 5.4098911e+00,  5.3461553e-03,  5.4112296e+00],\n",
       "         [ 5.4322662e+00,  2.8110505e-03,  5.4298697e+00],\n",
       "         [ 5.4418879e+00,  1.1969423e-02,  5.4445162e+00],\n",
       "         [ 5.5512776e+00,  6.6693784e-03,  5.5509448e+00],\n",
       "         [ 5.4537358e+00,  0.0000000e+00,  0.0000000e+00]], dtype=float32)})"
      ]
     },
     "execution_count": 36,
     "metadata": {},
     "output_type": "execute_result"
    }
   ],
   "source": [
    "dataset[7]"
   ]
  },
  {
   "cell_type": "code",
   "execution_count": null,
   "metadata": {},
   "outputs": [],
   "source": []
  },
  {
   "cell_type": "code",
   "execution_count": null,
   "metadata": {},
   "outputs": [],
   "source": []
  }
 ],
 "metadata": {
  "kernelspec": {
   "display_name": "espnet-study",
   "language": "python",
   "name": "python3"
  },
  "language_info": {
   "codemirror_mode": {
    "name": "ipython",
    "version": 3
   },
   "file_extension": ".py",
   "mimetype": "text/x-python",
   "name": "python",
   "nbconvert_exporter": "python",
   "pygments_lexer": "ipython3",
   "version": "3.10.13"
  }
 },
 "nbformat": 4,
 "nbformat_minor": 2
}
